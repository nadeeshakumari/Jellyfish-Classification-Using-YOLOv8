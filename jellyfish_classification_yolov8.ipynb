{
  "metadata": {
    "kernelspec": {
      "language": "python",
      "display_name": "Python 3",
      "name": "python3"
    },
    "language_info": {
      "name": "python",
      "version": "3.10.12",
      "mimetype": "text/x-python",
      "codemirror_mode": {
        "name": "ipython",
        "version": 3
      },
      "pygments_lexer": "ipython3",
      "nbconvert_exporter": "python",
      "file_extension": ".py"
    },
    "kaggle": {
      "accelerator": "nvidiaTeslaT4",
      "dataSources": [
        {
          "sourceId": 6800124,
          "sourceType": "datasetVersion",
          "datasetId": 3893117
        },
        {
          "sourceId": 7814527,
          "sourceType": "datasetVersion",
          "datasetId": 4577671
        },
        {
          "sourceId": 7818011,
          "sourceType": "datasetVersion",
          "datasetId": 4580318
        }
      ],
      "dockerImageVersionId": 30616,
      "isInternetEnabled": true,
      "language": "python",
      "sourceType": "notebook",
      "isGpuEnabled": true
    },
    "colab": {
      "provenance": []
    }
  },
  "nbformat_minor": 0,
  "nbformat": 4,
  "cells": [
    {
      "cell_type": "code",
      "source": [
        "# Install Roboflow to fetch the dataset\n",
        "!pip install roboflow\n",
        "\n",
        "# Import Roboflow and download dataset using API key\n",
        "from roboflow import Roboflow\n",
        "rf = Roboflow(api_key=\"uRg1alqSD7dk8lBMRRko\")\n",
        "\n",
        "# Access your project and download dataset in folder format\n",
        "project = rf.workspace(\"workspace2-vylmb\").project(\"jellyfish-l2rea\")\n",
        "dataset = project.version(1).download(\"folder\")\n"
      ],
      "metadata": {
        "_uuid": "8f2839f25d086af736a60e9eeb907d3b93b6e0e5",
        "_cell_guid": "b1076dfc-b9ad-4769-8c92-a6c4dae69d19",
        "execution": {
          "iopub.status.busy": "2024-03-11T17:47:30.702541Z",
          "iopub.execute_input": "2024-03-11T17:47:30.702826Z",
          "iopub.status.idle": "2024-03-11T17:48:05.042156Z",
          "shell.execute_reply.started": "2024-03-11T17:47:30.702801Z",
          "shell.execute_reply": "2024-03-11T17:48:05.041265Z"
        },
        "collapsed": true,
        "jupyter": {
          "outputs_hidden": true
        },
        "trusted": true,
        "id": "idSCumgAsCKc",
        "outputId": "8b2d8f6d-b523-4904-bc4d-fcca645cd674"
      },
      "outputs": [
        {
          "name": "stdout",
          "text": "Collecting roboflow\n  Obtaining dependency information for roboflow from https://files.pythonhosted.org/packages/a5/3e/dd9ba72528559149c0f04e47d30411392e0b9d8a2c8aa9319e65bf21600e/roboflow-1.1.23-py3-none-any.whl.metadata\n  Downloading roboflow-1.1.23-py3-none-any.whl.metadata (9.3 kB)\nCollecting certifi==2023.7.22 (from roboflow)\n  Obtaining dependency information for certifi==2023.7.22 from https://files.pythonhosted.org/packages/4c/dd/2234eab22353ffc7d94e8d13177aaa050113286e93e7b40eae01fbf7c3d9/certifi-2023.7.22-py3-none-any.whl.metadata\n  Downloading certifi-2023.7.22-py3-none-any.whl.metadata (2.2 kB)\nCollecting chardet==4.0.0 (from roboflow)\n  Obtaining dependency information for chardet==4.0.0 from https://files.pythonhosted.org/packages/19/c7/fa589626997dd07bd87d9269342ccb74b1720384a4d739a1872bd84fbe68/chardet-4.0.0-py2.py3-none-any.whl.metadata\n  Downloading chardet-4.0.0-py2.py3-none-any.whl.metadata (3.5 kB)\nCollecting cycler==0.10.0 (from roboflow)\n  Obtaining dependency information for cycler==0.10.0 from https://files.pythonhosted.org/packages/f7/d2/e07d3ebb2bd7af696440ce7e754c59dd546ffe1bbe732c8ab68b9c834e61/cycler-0.10.0-py2.py3-none-any.whl.metadata\n  Downloading cycler-0.10.0-py2.py3-none-any.whl.metadata (722 bytes)\nCollecting idna==2.10 (from roboflow)\n  Obtaining dependency information for idna==2.10 from https://files.pythonhosted.org/packages/a2/38/928ddce2273eaa564f6f50de919327bf3a00f091b5baba8dfa9460f3a8a8/idna-2.10-py2.py3-none-any.whl.metadata\n  Downloading idna-2.10-py2.py3-none-any.whl.metadata (9.1 kB)\nRequirement already satisfied: kiwisolver>=1.3.1 in /opt/conda/lib/python3.10/site-packages (from roboflow) (1.4.4)\nRequirement already satisfied: matplotlib in /opt/conda/lib/python3.10/site-packages (from roboflow) (3.7.4)\nRequirement already satisfied: numpy>=1.18.5 in /opt/conda/lib/python3.10/site-packages (from roboflow) (1.24.3)\nCollecting opencv-python-headless==4.8.0.74 (from roboflow)\n  Obtaining dependency information for opencv-python-headless==4.8.0.74 from https://files.pythonhosted.org/packages/76/02/f128517f3ade4bb5f71e2afd8461dba70e3f466ce745fa1fd1fade9ad1b7/opencv_python_headless-4.8.0.74-cp37-abi3-manylinux_2_17_x86_64.manylinux2014_x86_64.whl.metadata\n  Downloading opencv_python_headless-4.8.0.74-cp37-abi3-manylinux_2_17_x86_64.manylinux2014_x86_64.whl.metadata (19 kB)\nRequirement already satisfied: Pillow>=7.1.2 in /opt/conda/lib/python3.10/site-packages (from roboflow) (10.1.0)\nRequirement already satisfied: python-dateutil in /opt/conda/lib/python3.10/site-packages (from roboflow) (2.8.2)\nRequirement already satisfied: python-dotenv in /opt/conda/lib/python3.10/site-packages (from roboflow) (1.0.0)\nRequirement already satisfied: requests in /opt/conda/lib/python3.10/site-packages (from roboflow) (2.31.0)\nRequirement already satisfied: six in /opt/conda/lib/python3.10/site-packages (from roboflow) (1.16.0)\nRequirement already satisfied: urllib3>=1.26.6 in /opt/conda/lib/python3.10/site-packages (from roboflow) (1.26.15)\nRequirement already satisfied: tqdm>=4.41.0 in /opt/conda/lib/python3.10/site-packages (from roboflow) (4.66.1)\nRequirement already satisfied: PyYAML>=5.3.1 in /opt/conda/lib/python3.10/site-packages (from roboflow) (6.0.1)\nRequirement already satisfied: requests-toolbelt in /opt/conda/lib/python3.10/site-packages (from roboflow) (0.10.1)\nCollecting python-magic (from roboflow)\n  Obtaining dependency information for python-magic from https://files.pythonhosted.org/packages/6c/73/9f872cb81fc5c3bb48f7227872c28975f998f3e7c2b1c16e95e6432bbb90/python_magic-0.4.27-py2.py3-none-any.whl.metadata\n  Downloading python_magic-0.4.27-py2.py3-none-any.whl.metadata (5.8 kB)\nRequirement already satisfied: contourpy>=1.0.1 in /opt/conda/lib/python3.10/site-packages (from matplotlib->roboflow) (1.1.0)\nRequirement already satisfied: fonttools>=4.22.0 in /opt/conda/lib/python3.10/site-packages (from matplotlib->roboflow) (4.42.1)\nRequirement already satisfied: packaging>=20.0 in /opt/conda/lib/python3.10/site-packages (from matplotlib->roboflow) (21.3)\nRequirement already satisfied: pyparsing>=2.3.1 in /opt/conda/lib/python3.10/site-packages (from matplotlib->roboflow) (3.0.9)\nRequirement already satisfied: charset-normalizer<4,>=2 in /opt/conda/lib/python3.10/site-packages (from requests->roboflow) (3.2.0)\nDownloading roboflow-1.1.23-py3-none-any.whl (71 kB)\n\u001b[2K   \u001b[90m━━━━━━━━━━━━━━━━━━━━━━━━━━━━━━━━━━━━━━━━\u001b[0m \u001b[32m71.4/71.4 kB\u001b[0m \u001b[31m4.1 MB/s\u001b[0m eta \u001b[36m0:00:00\u001b[0m\n\u001b[?25hDownloading certifi-2023.7.22-py3-none-any.whl (158 kB)\n\u001b[2K   \u001b[90m━━━━━━━━━━━━━━━━━━━━━━━━━━━━━━━━━━━━━━━━\u001b[0m \u001b[32m158.3/158.3 kB\u001b[0m \u001b[31m9.1 MB/s\u001b[0m eta \u001b[36m0:00:00\u001b[0m\n\u001b[?25hDownloading chardet-4.0.0-py2.py3-none-any.whl (178 kB)\n\u001b[2K   \u001b[90m━━━━━━━━━━━━━━━━━━━━━━━━━━━━━━━━━━━━━━━━\u001b[0m \u001b[32m178.7/178.7 kB\u001b[0m \u001b[31m18.7 MB/s\u001b[0m eta \u001b[36m0:00:00\u001b[0m\n\u001b[?25hDownloading cycler-0.10.0-py2.py3-none-any.whl (6.5 kB)\nDownloading idna-2.10-py2.py3-none-any.whl (58 kB)\n\u001b[2K   \u001b[90m━━━━━━━━━━━━━━━━━━━━━━━━━━━━━━━━━━━━━━━━\u001b[0m \u001b[32m58.8/58.8 kB\u001b[0m \u001b[31m6.0 MB/s\u001b[0m eta \u001b[36m0:00:00\u001b[0m\n\u001b[?25hDownloading opencv_python_headless-4.8.0.74-cp37-abi3-manylinux_2_17_x86_64.manylinux2014_x86_64.whl (49.1 MB)\n\u001b[2K   \u001b[90m━━━━━━━━━━━━━━━━━━━━━━━━━━━━━━━━━━━━━━━━\u001b[0m \u001b[32m49.1/49.1 MB\u001b[0m \u001b[31m23.7 MB/s\u001b[0m eta \u001b[36m0:00:00\u001b[0m:00:01\u001b[0m00:01\u001b[0m\n\u001b[?25hDownloading python_magic-0.4.27-py2.py3-none-any.whl (13 kB)\nInstalling collected packages: python-magic, opencv-python-headless, idna, cycler, chardet, certifi, roboflow\n  Attempting uninstall: opencv-python-headless\n    Found existing installation: opencv-python-headless 4.8.1.78\n    Uninstalling opencv-python-headless-4.8.1.78:\n      Successfully uninstalled opencv-python-headless-4.8.1.78\n  Attempting uninstall: idna\n    Found existing installation: idna 3.4\n    Uninstalling idna-3.4:\n      Successfully uninstalled idna-3.4\n  Attempting uninstall: cycler\n    Found existing installation: cycler 0.11.0\n    Uninstalling cycler-0.11.0:\n      Successfully uninstalled cycler-0.11.0\n  Attempting uninstall: certifi\n    Found existing installation: certifi 2023.11.17\n    Uninstalling certifi-2023.11.17:\n      Successfully uninstalled certifi-2023.11.17\n\u001b[31mERROR: pip's dependency resolver does not currently take into account all the packages that are installed. This behaviour is the source of the following dependency conflicts.\njupyterlab 4.0.5 requires jupyter-lsp>=2.0.0, but you have jupyter-lsp 1.5.1 which is incompatible.\njupyterlab-lsp 5.0.1 requires jupyter-lsp>=2.0.0, but you have jupyter-lsp 1.5.1 which is incompatible.\njupyterlab-lsp 5.0.1 requires jupyterlab<5.0.0a0,>=4.0.6, but you have jupyterlab 4.0.5 which is incompatible.\nlibpysal 4.9.2 requires packaging>=22, but you have packaging 21.3 which is incompatible.\nlibpysal 4.9.2 requires shapely>=2.0.1, but you have shapely 1.8.5.post1 which is incompatible.\nmomepy 0.7.0 requires shapely>=2, but you have shapely 1.8.5.post1 which is incompatible.\ntensorflowjs 4.14.0 requires packaging~=23.1, but you have packaging 21.3 which is incompatible.\nydata-profiling 4.5.1 requires numpy<1.24,>=1.16.0, but you have numpy 1.24.3 which is incompatible.\u001b[0m\u001b[31m\n\u001b[0mSuccessfully installed certifi-2023.7.22 chardet-4.0.0 cycler-0.10.0 idna-2.10 opencv-python-headless-4.8.0.74 python-magic-0.4.27 roboflow-1.1.23\nloading Roboflow workspace...\nloading Roboflow project...\n",
          "output_type": "stream"
        },
        {
          "name": "stderr",
          "text": "Downloading Dataset Version Zip in Jellyfish-1 to folder:: 100%|██████████| 33234/33234 [00:00<00:00, 34245.82it/s]",
          "output_type": "stream"
        },
        {
          "name": "stdout",
          "text": "\n",
          "output_type": "stream"
        },
        {
          "name": "stderr",
          "text": "\nExtracting Dataset Version Zip to Jellyfish-1 in folder:: 100%|██████████| 1002/1002 [00:00<00:00, 6788.91it/s]\n",
          "output_type": "stream"
        }
      ],
      "execution_count": null
    },
    {
      "cell_type": "code",
      "source": [
        "\n",
        "!pip install ultralytics\n",
        "\n",
        "from IPython import display\n",
        "display.clear_output()\n",
        "\n",
        "# Run YOLO internal checks\n",
        "import ultralytics\n",
        "ultralytics.checks()"
      ],
      "metadata": {
        "execution": {
          "iopub.status.busy": "2024-03-11T17:48:06.924799Z",
          "iopub.execute_input": "2024-03-11T17:48:06.925142Z",
          "iopub.status.idle": "2024-03-11T17:48:26.706366Z",
          "shell.execute_reply.started": "2024-03-11T17:48:06.925111Z",
          "shell.execute_reply": "2024-03-11T17:48:26.705397Z"
        },
        "collapsed": true,
        "jupyter": {
          "outputs_hidden": true
        },
        "trusted": true,
        "id": "6wxK8gsVsCKf",
        "outputId": "5ea1f38e-2cb3-4510-b2e0-38a5c0ab29b4"
      },
      "outputs": [
        {
          "name": "stdout",
          "text": "Ultralytics YOLOv8.1.26 🚀 Python-3.10.12 torch-2.0.0 CUDA:0 (Tesla T4, 15102MiB)\nSetup complete ✅ (4 CPUs, 31.4 GB RAM, 5519.1/8062.4 GB disk)\n",
          "output_type": "stream"
        }
      ],
      "execution_count": null
    },
    {
      "cell_type": "code",
      "source": [
        "import os\n",
        "import pandas as pd\n",
        "import matplotlib.pyplot as plt\n",
        "import utils"
      ],
      "metadata": {
        "execution": {
          "iopub.status.busy": "2024-03-11T17:48:41.733172Z",
          "iopub.execute_input": "2024-03-11T17:48:41.733867Z",
          "iopub.status.idle": "2024-03-11T17:48:41.737935Z",
          "shell.execute_reply.started": "2024-03-11T17:48:41.733823Z",
          "shell.execute_reply": "2024-03-11T17:48:41.737104Z"
        },
        "trusted": true,
        "id": "14SubWwmsCKf"
      },
      "outputs": [],
      "execution_count": null
    },
    {
      "cell_type": "code",
      "source": [
        "from ultralytics import YOLO\n",
        "\n",
        "from IPython.display import display, Image"
      ],
      "metadata": {
        "execution": {
          "iopub.status.busy": "2024-03-11T17:48:26.707759Z",
          "iopub.execute_input": "2024-03-11T17:48:26.708425Z",
          "iopub.status.idle": "2024-03-11T17:48:26.713469Z",
          "shell.execute_reply.started": "2024-03-11T17:48:26.708369Z",
          "shell.execute_reply": "2024-03-11T17:48:26.712614Z"
        },
        "trusted": true,
        "id": "_zcyZWmosCKf"
      },
      "outputs": [],
      "execution_count": null
    },
    {
      "cell_type": "code",
      "source": [
        "# Check downloaded folders\n",
        "!ls"
      ],
      "metadata": {
        "execution": {
          "iopub.status.busy": "2024-03-11T17:48:05.043811Z",
          "iopub.execute_input": "2024-03-11T17:48:05.044103Z",
          "iopub.status.idle": "2024-03-11T17:48:05.979736Z",
          "shell.execute_reply.started": "2024-03-11T17:48:05.044075Z",
          "shell.execute_reply": "2024-03-11T17:48:05.978762Z"
        },
        "trusted": true,
        "id": "RT5PyDztsCKd",
        "outputId": "36c5504e-7e7b-4514-b41a-235fb09bd360"
      },
      "outputs": [
        {
          "name": "stdout",
          "text": "Jellyfish-1\n",
          "output_type": "stream"
        }
      ],
      "execution_count": null
    },
    {
      "cell_type": "code",
      "source": [
        "!ls Jellyfish-1"
      ],
      "metadata": {
        "execution": {
          "iopub.status.busy": "2024-03-11T17:48:05.981102Z",
          "iopub.execute_input": "2024-03-11T17:48:05.981411Z",
          "iopub.status.idle": "2024-03-11T17:48:06.915722Z",
          "shell.execute_reply.started": "2024-03-11T17:48:05.981383Z",
          "shell.execute_reply": "2024-03-11T17:48:06.914756Z"
        },
        "trusted": true,
        "id": "8BhagsiysCKe",
        "outputId": "8c527680-e447-4b6b-97c8-f691bbe067d2"
      },
      "outputs": [
        {
          "name": "stdout",
          "text": "README.dataset.txt  README.roboflow.txt  test  train  valid\n",
          "output_type": "stream"
        }
      ],
      "execution_count": null
    },
    {
      "cell_type": "code",
      "source": [
        "# Clone YOLOv8 GitHub repo\n",
        "!git clone https://github.com/ultralytics/yolov8\n",
        "\n",
        "# Change into the yolov8 directory and install dependencies\n",
        "%cd yolov8\n",
        "%pip install -qr requirements.txt  # install\n",
        "\n",
        "# Init YOLO utils\n",
        "import torch\n",
        "display = utils.notebook_init()  # checks"
      ],
      "metadata": {
        "execution": {
          "iopub.status.busy": "2024-03-11T09:18:21.315121Z",
          "iopub.execute_input": "2024-03-11T09:18:21.316103Z"
        },
        "trusted": true,
        "id": "fo0gKdwvsCKe",
        "outputId": "0846b731-7b82-4dae-e9b5-f2951c563b82"
      },
      "outputs": [
        {
          "name": "stdout",
          "text": "Cloning into 'yolov8'...\nUsername for 'https://github.com': ",
          "output_type": "stream"
        }
      ],
      "execution_count": null
    },
    {
      "cell_type": "code",
      "source": [
        "# Train classification model (YOLOv8n-cls) on jellyfish dataset\n",
        "\n",
        "%cd {HOME}\n",
        "\n",
        "!yolo task=classify mode=train model=yolov8n-cls.pt data={'/kaggle/input/jellyfish-roboflow-ori/Jellyfish.v1i.folder'} epochs=50 imgsz=128"
      ],
      "metadata": {
        "execution": {
          "iopub.status.busy": "2024-03-11T17:48:42.014451Z",
          "iopub.execute_input": "2024-03-11T17:48:42.015313Z",
          "iopub.status.idle": "2024-03-11T17:52:59.983648Z",
          "shell.execute_reply.started": "2024-03-11T17:48:42.015276Z",
          "shell.execute_reply": "2024-03-11T17:52:59.982465Z"
        },
        "collapsed": true,
        "jupyter": {
          "outputs_hidden": true
        },
        "trusted": true,
        "id": "6yU-7izEsCKf",
        "outputId": "d188219b-82ab-4020-fb12-d724fdf6b759"
      },
      "outputs": [
        {
          "name": "stdout",
          "text": "/kaggle/working\nDownloading https://github.com/ultralytics/assets/releases/download/v8.1.0/yolov8n-cls.pt to 'yolov8n-cls.pt'...\n100%|██████████████████████████████████████| 5.30M/5.30M [00:00<00:00, 92.3MB/s]\nUltralytics YOLOv8.1.26 🚀 Python-3.10.12 torch-2.0.0 CUDA:0 (Tesla T4, 15102MiB)\n\u001b[34m\u001b[1mengine/trainer: \u001b[0mtask=classify, mode=train, model=yolov8n-cls.pt, data=/kaggle/input/jellyfish-roboflow-ori/Jellyfish.v1i.folder, epochs=50, time=None, patience=100, batch=16, imgsz=128, save=True, save_period=-1, cache=False, device=None, workers=8, project=None, name=train, exist_ok=False, pretrained=True, optimizer=auto, verbose=True, seed=0, deterministic=True, single_cls=False, rect=False, cos_lr=False, close_mosaic=10, resume=False, amp=True, fraction=1.0, profile=False, freeze=None, multi_scale=False, overlap_mask=True, mask_ratio=4, dropout=0.0, val=True, split=val, save_json=False, save_hybrid=False, conf=None, iou=0.7, max_det=300, half=False, dnn=False, plots=True, source=None, vid_stride=1, stream_buffer=False, visualize=False, augment=False, agnostic_nms=False, classes=None, retina_masks=False, embed=None, show=False, save_frames=False, save_txt=False, save_conf=False, save_crop=False, show_labels=True, show_conf=True, show_boxes=True, line_width=None, format=torchscript, keras=False, optimize=False, int8=False, dynamic=False, simplify=False, opset=None, workspace=4, nms=False, lr0=0.01, lrf=0.01, momentum=0.937, weight_decay=0.0005, warmup_epochs=3.0, warmup_momentum=0.8, warmup_bias_lr=0.1, box=7.5, cls=0.5, dfl=1.5, pose=12.0, kobj=1.0, label_smoothing=0.0, nbs=64, hsv_h=0.015, hsv_s=0.7, hsv_v=0.4, degrees=0.0, translate=0.1, scale=0.5, shear=0.0, perspective=0.0, flipud=0.0, fliplr=0.5, mosaic=1.0, mixup=0.0, copy_paste=0.0, auto_augment=randaugment, erasing=0.4, crop_fraction=1.0, cfg=None, tracker=botsort.yaml, save_dir=runs/classify/train\n\u001b[34m\u001b[1mtrain:\u001b[0m /kaggle/input/jellyfish-roboflow-ori/Jellyfish.v1i.folder/train... found 658 images in 6 classes ✅ \n\u001b[34m\u001b[1mval:\u001b[0m /kaggle/input/jellyfish-roboflow-ori/Jellyfish.v1i.folder/val... found 209 images in 6 classes ✅ \n\u001b[34m\u001b[1mtest:\u001b[0m /kaggle/input/jellyfish-roboflow-ori/Jellyfish.v1i.folder/test... found 112 images in 6 classes ✅ \n/opt/conda/lib/python3.10/site-packages/scipy/__init__.py:146: UserWarning: A NumPy version >=1.16.5 and <1.23.0 is required for this version of SciPy (detected version 1.24.3\n  warnings.warn(f\"A NumPy version >={np_minversion} and <{np_maxversion}\"\nOverriding model.yaml nc=1000 with nc=6\n\n                   from  n    params  module                                       arguments                     \n  0                  -1  1       464  ultralytics.nn.modules.conv.Conv             [3, 16, 3, 2]                 \n  1                  -1  1      4672  ultralytics.nn.modules.conv.Conv             [16, 32, 3, 2]                \n  2                  -1  1      7360  ultralytics.nn.modules.block.C2f             [32, 32, 1, True]             \n  3                  -1  1     18560  ultralytics.nn.modules.conv.Conv             [32, 64, 3, 2]                \n  4                  -1  2     49664  ultralytics.nn.modules.block.C2f             [64, 64, 2, True]             \n  5                  -1  1     73984  ultralytics.nn.modules.conv.Conv             [64, 128, 3, 2]               \n  6                  -1  2    197632  ultralytics.nn.modules.block.C2f             [128, 128, 2, True]           \n  7                  -1  1    295424  ultralytics.nn.modules.conv.Conv             [128, 256, 3, 2]              \n  8                  -1  1    460288  ultralytics.nn.modules.block.C2f             [256, 256, 1, True]           \n  9                  -1  1    337926  ultralytics.nn.modules.head.Classify         [256, 6]                      \nYOLOv8n-cls summary: 99 layers, 1445974 parameters, 1445974 gradients, 3.4 GFLOPs\nTransferred 156/158 items from pretrained weights\n\u001b[34m\u001b[1mTensorBoard: \u001b[0mStart with 'tensorboard --logdir runs/classify/train', view at http://localhost:6006/\n\u001b[34m\u001b[1mAMP: \u001b[0mrunning Automatic Mixed Precision (AMP) checks with YOLOv8n...\nDownloading https://github.com/ultralytics/assets/releases/download/v8.1.0/yolov8n.pt to 'yolov8n.pt'...\n100%|██████████████████████████████████████| 6.23M/6.23M [00:00<00:00, 85.8MB/s]\n\u001b[34m\u001b[1mAMP: \u001b[0mchecks passed ✅\n\u001b[34m\u001b[1mtrain: \u001b[0mScanning /kaggle/input/jellyfish-roboflow-ori/Jellyfish.v1i.folder/train.\u001b[0m\n\u001b[34m\u001b[1mtrain: \u001b[0mWARNING ⚠️ Cache directory /kaggle/input/jellyfish-roboflow-ori/Jellyfish.v1i.folder is not writeable, cache not saved.\n\u001b[34m\u001b[1mval: \u001b[0mScanning /kaggle/input/jellyfish-roboflow-ori/Jellyfish.v1i.folder/val... 2\u001b[0m\n\u001b[34m\u001b[1mval: \u001b[0mWARNING ⚠️ Cache directory /kaggle/input/jellyfish-roboflow-ori/Jellyfish.v1i.folder is not writeable, cache not saved.\n\u001b[34m\u001b[1moptimizer:\u001b[0m 'optimizer=auto' found, ignoring 'lr0=0.01' and 'momentum=0.937' and determining best 'optimizer', 'lr0' and 'momentum' automatically... \n\u001b[34m\u001b[1moptimizer:\u001b[0m AdamW(lr=0.000714, momentum=0.9) with parameter groups 26 weight(decay=0.0), 27 weight(decay=0.0005), 27 bias(decay=0.0)\n\u001b[34m\u001b[1mTensorBoard: \u001b[0mmodel graph visualization added ✅\nImage sizes 128 train, 128 val\nUsing 2 dataloader workers\nLogging results to \u001b[1mruns/classify/train\u001b[0m\nStarting training for 50 epochs...\n\n      Epoch    GPU_mem       loss  Instances       Size\n       1/50     0.409G      1.836         16        128:  36%|███▌      | 15/42 Downloading https://ultralytics.com/assets/Arial.ttf to '/root/.config/Ultralytics/Arial.ttf'...\n       1/50     0.413G      1.793         16        128:  60%|█████▉    | 25/42 \n100%|████████████████████████████████████████| 755k/755k [00:00<00:00, 25.2MB/s]\u001b[A\n       1/50     0.413G      1.704          2        128: 100%|██████████| 42/42 \n               classes   top1_acc   top5_acc: 100%|██████████| 7/7 [00:00<00:00,\n                   all      0.612      0.971\n\n      Epoch    GPU_mem       loss  Instances       Size\n       2/50     0.392G      1.136          2        128: 100%|██████████| 42/42 \n               classes   top1_acc   top5_acc: 100%|██████████| 7/7 [00:00<00:00,\n                   all      0.852          1\n\n      Epoch    GPU_mem       loss  Instances       Size\n       3/50     0.392G     0.6956          2        128: 100%|██████████| 42/42 \n               classes   top1_acc   top5_acc: 100%|██████████| 7/7 [00:00<00:00,\n                   all      0.904          1\n\n      Epoch    GPU_mem       loss  Instances       Size\n       4/50     0.392G     0.4935          2        128: 100%|██████████| 42/42 \n               classes   top1_acc   top5_acc: 100%|██████████| 7/7 [00:00<00:00,\n                   all      0.895          1\n\n      Epoch    GPU_mem       loss  Instances       Size\n       5/50     0.392G     0.3652          2        128: 100%|██████████| 42/42 \n               classes   top1_acc   top5_acc: 100%|██████████| 7/7 [00:00<00:00,\n                   all      0.962          1\n\n      Epoch    GPU_mem       loss  Instances       Size\n       6/50     0.392G     0.3376          2        128: 100%|██████████| 42/42 \n               classes   top1_acc   top5_acc: 100%|██████████| 7/7 [00:00<00:00,\n                   all      0.957          1\n\n      Epoch    GPU_mem       loss  Instances       Size\n       7/50     0.392G     0.3043          2        128: 100%|██████████| 42/42 \n               classes   top1_acc   top5_acc: 100%|██████████| 7/7 [00:00<00:00,\n                   all      0.976          1\n\n      Epoch    GPU_mem       loss  Instances       Size\n       8/50     0.392G     0.2994          2        128: 100%|██████████| 42/42 \n               classes   top1_acc   top5_acc: 100%|██████████| 7/7 [00:00<00:00,\n                   all      0.971          1\n\n      Epoch    GPU_mem       loss  Instances       Size\n       9/50     0.392G       0.27          2        128: 100%|██████████| 42/42 \n               classes   top1_acc   top5_acc: 100%|██████████| 7/7 [00:00<00:00,\n                   all      0.976          1\n\n      Epoch    GPU_mem       loss  Instances       Size\n      10/50     0.392G     0.2423          2        128: 100%|██████████| 42/42 \n               classes   top1_acc   top5_acc: 100%|██████████| 7/7 [00:00<00:00,\n                   all      0.957          1\n\n      Epoch    GPU_mem       loss  Instances       Size\n      11/50     0.392G     0.2446          2        128: 100%|██████████| 42/42 \n               classes   top1_acc   top5_acc: 100%|██████████| 7/7 [00:00<00:00,\n                   all      0.962          1\n\n      Epoch    GPU_mem       loss  Instances       Size\n      12/50     0.392G     0.1976          2        128: 100%|██████████| 42/42 \n               classes   top1_acc   top5_acc: 100%|██████████| 7/7 [00:00<00:00,\n                   all      0.967          1\n\n      Epoch    GPU_mem       loss  Instances       Size\n      13/50     0.392G     0.2134          2        128: 100%|██████████| 42/42 \n               classes   top1_acc   top5_acc: 100%|██████████| 7/7 [00:00<00:00,\n                   all      0.952          1\n\n      Epoch    GPU_mem       loss  Instances       Size\n      14/50     0.392G     0.1629          2        128: 100%|██████████| 42/42 \n               classes   top1_acc   top5_acc: 100%|██████████| 7/7 [00:00<00:00,\n                   all      0.967          1\n\n      Epoch    GPU_mem       loss  Instances       Size\n      15/50     0.392G     0.2087          2        128: 100%|██████████| 42/42 \n               classes   top1_acc   top5_acc: 100%|██████████| 7/7 [00:00<00:00,\n                   all      0.971          1\n\n      Epoch    GPU_mem       loss  Instances       Size\n      16/50     0.392G      0.153          2        128: 100%|██████████| 42/42 \n               classes   top1_acc   top5_acc: 100%|██████████| 7/7 [00:00<00:00,\n                   all      0.971          1\n\n      Epoch    GPU_mem       loss  Instances       Size\n      17/50     0.392G     0.1391          2        128: 100%|██████████| 42/42 \n               classes   top1_acc   top5_acc: 100%|██████████| 7/7 [00:00<00:00,\n                   all      0.976          1\n\n      Epoch    GPU_mem       loss  Instances       Size\n      18/50     0.392G     0.1778          2        128: 100%|██████████| 42/42 \n               classes   top1_acc   top5_acc: 100%|██████████| 7/7 [00:00<00:00,\n                   all      0.971          1\n\n      Epoch    GPU_mem       loss  Instances       Size\n      19/50     0.392G     0.1346          2        128: 100%|██████████| 42/42 \n               classes   top1_acc   top5_acc: 100%|██████████| 7/7 [00:00<00:00,\n                   all      0.971          1\n\n      Epoch    GPU_mem       loss  Instances       Size\n      20/50     0.392G     0.1324          2        128: 100%|██████████| 42/42 \n               classes   top1_acc   top5_acc: 100%|██████████| 7/7 [00:00<00:00,\n                   all      0.981          1\n\n      Epoch    GPU_mem       loss  Instances       Size\n      21/50     0.392G     0.1029          2        128: 100%|██████████| 42/42 \n               classes   top1_acc   top5_acc: 100%|██████████| 7/7 [00:00<00:00,\n                   all      0.986          1\n\n      Epoch    GPU_mem       loss  Instances       Size\n      22/50     0.392G     0.1208          2        128: 100%|██████████| 42/42 \n               classes   top1_acc   top5_acc: 100%|██████████| 7/7 [00:00<00:00,\n                   all      0.976          1\n\n      Epoch    GPU_mem       loss  Instances       Size\n      23/50     0.392G     0.1244          2        128: 100%|██████████| 42/42 \n               classes   top1_acc   top5_acc: 100%|██████████| 7/7 [00:00<00:00,\n                   all      0.967          1\n\n      Epoch    GPU_mem       loss  Instances       Size\n      24/50     0.392G     0.2032          2        128: 100%|██████████| 42/42 \n               classes   top1_acc   top5_acc: 100%|██████████| 7/7 [00:00<00:00,\n                   all      0.967          1\n\n      Epoch    GPU_mem       loss  Instances       Size\n      25/50     0.392G     0.1419          2        128: 100%|██████████| 42/42 \n               classes   top1_acc   top5_acc: 100%|██████████| 7/7 [00:00<00:00,\n                   all      0.971          1\n\n      Epoch    GPU_mem       loss  Instances       Size\n      26/50     0.392G     0.1366          2        128: 100%|██████████| 42/42 \n               classes   top1_acc   top5_acc: 100%|██████████| 7/7 [00:00<00:00,\n                   all      0.971          1\n\n      Epoch    GPU_mem       loss  Instances       Size\n      27/50     0.392G     0.1088          2        128: 100%|██████████| 42/42 \n               classes   top1_acc   top5_acc: 100%|██████████| 7/7 [00:00<00:00,\n                   all      0.962          1\n\n      Epoch    GPU_mem       loss  Instances       Size\n      28/50     0.392G     0.1661          2        128: 100%|██████████| 42/42 \n               classes   top1_acc   top5_acc: 100%|██████████| 7/7 [00:00<00:00,\n                   all      0.957          1\n\n      Epoch    GPU_mem       loss  Instances       Size\n      29/50     0.392G     0.1132          2        128: 100%|██████████| 42/42 \n               classes   top1_acc   top5_acc: 100%|██████████| 7/7 [00:00<00:00,\n                   all      0.967          1\n\n      Epoch    GPU_mem       loss  Instances       Size\n      30/50     0.392G    0.08061          2        128: 100%|██████████| 42/42 \n               classes   top1_acc   top5_acc: 100%|██████████| 7/7 [00:00<00:00,\n                   all      0.967          1\n\n      Epoch    GPU_mem       loss  Instances       Size\n      31/50     0.392G    0.09544          2        128: 100%|██████████| 42/42 \n               classes   top1_acc   top5_acc: 100%|██████████| 7/7 [00:00<00:00,\n                   all      0.976          1\n\n      Epoch    GPU_mem       loss  Instances       Size\n      32/50     0.392G     0.1061          2        128: 100%|██████████| 42/42 \n               classes   top1_acc   top5_acc: 100%|██████████| 7/7 [00:00<00:00,\n                   all      0.962          1\n\n      Epoch    GPU_mem       loss  Instances       Size\n      33/50     0.392G     0.1908          2        128: 100%|██████████| 42/42 \n               classes   top1_acc   top5_acc: 100%|██████████| 7/7 [00:00<00:00,\n                   all      0.957          1\n\n      Epoch    GPU_mem       loss  Instances       Size\n      34/50     0.392G    0.08493          2        128: 100%|██████████| 42/42 \n               classes   top1_acc   top5_acc: 100%|██████████| 7/7 [00:00<00:00,\n                   all      0.957          1\n\n      Epoch    GPU_mem       loss  Instances       Size\n      35/50     0.392G    0.06654          2        128: 100%|██████████| 42/42 \n               classes   top1_acc   top5_acc: 100%|██████████| 7/7 [00:00<00:00,\n                   all      0.967          1\n\n      Epoch    GPU_mem       loss  Instances       Size\n      36/50     0.392G    0.07894          2        128: 100%|██████████| 42/42 \n               classes   top1_acc   top5_acc: 100%|██████████| 7/7 [00:00<00:00,\n                   all      0.967          1\n\n      Epoch    GPU_mem       loss  Instances       Size\n      37/50     0.392G    0.09106          2        128: 100%|██████████| 42/42 \n               classes   top1_acc   top5_acc: 100%|██████████| 7/7 [00:00<00:00,\n                   all      0.967          1\n\n      Epoch    GPU_mem       loss  Instances       Size\n      38/50     0.392G    0.06709          2        128: 100%|██████████| 42/42 \n               classes   top1_acc   top5_acc: 100%|██████████| 7/7 [00:00<00:00,\n                   all      0.962          1\n\n      Epoch    GPU_mem       loss  Instances       Size\n      39/50     0.392G    0.08481          2        128: 100%|██████████| 42/42 \n               classes   top1_acc   top5_acc: 100%|██████████| 7/7 [00:00<00:00,\n                   all      0.962          1\n\n      Epoch    GPU_mem       loss  Instances       Size\n      40/50     0.392G    0.08426          2        128: 100%|██████████| 42/42 \n               classes   top1_acc   top5_acc: 100%|██████████| 7/7 [00:00<00:00,\n                   all      0.957          1\n\n      Epoch    GPU_mem       loss  Instances       Size\n      41/50     0.392G    0.07879          2        128: 100%|██████████| 42/42 \n               classes   top1_acc   top5_acc: 100%|██████████| 7/7 [00:00<00:00,\n                   all      0.962          1\n\n      Epoch    GPU_mem       loss  Instances       Size\n      42/50     0.392G    0.06763          2        128: 100%|██████████| 42/42 \n               classes   top1_acc   top5_acc: 100%|██████████| 7/7 [00:00<00:00,\n                   all      0.967          1\n\n      Epoch    GPU_mem       loss  Instances       Size\n      43/50     0.392G     0.1307          2        128: 100%|██████████| 42/42 \n               classes   top1_acc   top5_acc: 100%|██████████| 7/7 [00:00<00:00,\n                   all      0.976          1\n\n      Epoch    GPU_mem       loss  Instances       Size\n      44/50     0.392G    0.08466          2        128: 100%|██████████| 42/42 \n               classes   top1_acc   top5_acc: 100%|██████████| 7/7 [00:00<00:00,\n                   all      0.971          1\n\n      Epoch    GPU_mem       loss  Instances       Size\n      45/50     0.392G    0.06627          2        128: 100%|██████████| 42/42 \n               classes   top1_acc   top5_acc: 100%|██████████| 7/7 [00:00<00:00,\n                   all      0.967          1\n\n      Epoch    GPU_mem       loss  Instances       Size\n      46/50     0.392G    0.06686          2        128: 100%|██████████| 42/42 \n               classes   top1_acc   top5_acc: 100%|██████████| 7/7 [00:00<00:00,\n                   all      0.971          1\n\n      Epoch    GPU_mem       loss  Instances       Size\n      47/50     0.392G    0.07813          2        128: 100%|██████████| 42/42 \n               classes   top1_acc   top5_acc: 100%|██████████| 7/7 [00:00<00:00,\n                   all      0.967          1\n\n      Epoch    GPU_mem       loss  Instances       Size\n      48/50     0.392G    0.08754          2        128: 100%|██████████| 42/42 \n               classes   top1_acc   top5_acc: 100%|██████████| 7/7 [00:00<00:00,\n                   all      0.962          1\n\n      Epoch    GPU_mem       loss  Instances       Size\n      49/50     0.392G    0.07341          2        128: 100%|██████████| 42/42 \n               classes   top1_acc   top5_acc: 100%|██████████| 7/7 [00:00<00:00,\n                   all      0.971          1\n\n      Epoch    GPU_mem       loss  Instances       Size\n      50/50     0.392G    0.04545          2        128: 100%|██████████| 42/42 \n               classes   top1_acc   top5_acc: 100%|██████████| 7/7 [00:00<00:00,\n                   all      0.967          1\n\n50 epochs completed in 0.062 hours.\nOptimizer stripped from runs/classify/train/weights/last.pt, 3.0MB\nOptimizer stripped from runs/classify/train/weights/best.pt, 3.0MB\n\nValidating runs/classify/train/weights/best.pt...\nUltralytics YOLOv8.1.26 🚀 Python-3.10.12 torch-2.0.0 CUDA:0 (Tesla T4, 15102MiB)\nYOLOv8n-cls summary (fused): 73 layers, 1442566 parameters, 0 gradients, 3.3 GFLOPs\n\u001b[34m\u001b[1mtrain:\u001b[0m /kaggle/input/jellyfish-roboflow-ori/Jellyfish.v1i.folder/train... found 658 images in 6 classes ✅ \n\u001b[34m\u001b[1mval:\u001b[0m /kaggle/input/jellyfish-roboflow-ori/Jellyfish.v1i.folder/val... found 209 images in 6 classes ✅ \n\u001b[34m\u001b[1mtest:\u001b[0m /kaggle/input/jellyfish-roboflow-ori/Jellyfish.v1i.folder/test... found 112 images in 6 classes ✅ \n               classes   top1_acc   top5_acc: 100%|██████████| 7/7 [00:00<00:00,\n                   all      0.986          1\nSpeed: 0.4ms preprocess, 3.0ms inference, 0.0ms loss, 0.0ms postprocess per image\nResults saved to \u001b[1mruns/classify/train\u001b[0m\nResults saved to \u001b[1mruns/classify/train\u001b[0m\n💡 Learn more at https://docs.ultralytics.com/modes/train\n",
          "output_type": "stream"
        }
      ],
      "execution_count": null
    },
    {
      "cell_type": "code",
      "source": [
        "# Check output weights directory\n",
        "!ls /kaggle/working/runs/classify/train/weights"
      ],
      "metadata": {
        "execution": {
          "iopub.status.busy": "2024-03-11T18:16:51.843199Z",
          "iopub.execute_input": "2024-03-11T18:16:51.844114Z",
          "iopub.status.idle": "2024-03-11T18:16:52.794579Z",
          "shell.execute_reply.started": "2024-03-11T18:16:51.844057Z",
          "shell.execute_reply": "2024-03-11T18:16:52.793452Z"
        },
        "trusted": true,
        "id": "x7E532_6sCKg",
        "outputId": "c017b926-97da-4cd7-f564-c7fa4254b7a2"
      },
      "outputs": [
        {
          "name": "stdout",
          "text": "best.pt  last.pt\n",
          "output_type": "stream"
        }
      ],
      "execution_count": null
    },
    {
      "cell_type": "code",
      "source": [
        "# Run validation on best model\n",
        "!yolo classify val model=/kaggle/working/runs/classify/train/weights/best.pt data={'/kaggle/input/jellyfish-roboflow-ori/Jellyfish.v1i.folder'}"
      ],
      "metadata": {
        "execution": {
          "iopub.status.busy": "2024-03-11T18:17:33.093408Z",
          "iopub.execute_input": "2024-03-11T18:17:33.093810Z",
          "iopub.status.idle": "2024-03-11T18:17:44.434686Z",
          "shell.execute_reply.started": "2024-03-11T18:17:33.093775Z",
          "shell.execute_reply": "2024-03-11T18:17:44.433672Z"
        },
        "trusted": true,
        "id": "C2iRv-1MsCKg",
        "outputId": "4aacbc71-48e2-44bc-cf12-ed94471bc204"
      },
      "outputs": [
        {
          "name": "stdout",
          "text": "Ultralytics YOLOv8.1.26 🚀 Python-3.10.12 torch-2.0.0 CUDA:0 (Tesla T4, 15102MiB)\nYOLOv8n-cls summary (fused): 73 layers, 1442566 parameters, 0 gradients, 3.3 GFLOPs\n\u001b[34m\u001b[1mtrain:\u001b[0m /kaggle/input/jellyfish-roboflow-ori/Jellyfish.v1i.folder/train... found 658 images in 6 classes ✅ \n\u001b[34m\u001b[1mval:\u001b[0m /kaggle/input/jellyfish-roboflow-ori/Jellyfish.v1i.folder/val... found 209 images in 6 classes ✅ \n\u001b[34m\u001b[1mtest:\u001b[0m /kaggle/input/jellyfish-roboflow-ori/Jellyfish.v1i.folder/test... found 112 images in 6 classes ✅ \n\u001b[34m\u001b[1mval: \u001b[0mScanning /kaggle/input/jellyfish-roboflow-ori/Jellyfish.v1i.folder/val... 2\u001b[0m\n\u001b[34m\u001b[1mval: \u001b[0mWARNING ⚠️ Cache directory /kaggle/input/jellyfish-roboflow-ori/Jellyfish.v1i.folder is not writeable, cache not saved.\n               classes   top1_acc   top5_acc: 100%|██████████| 14/14 [00:01<00:0\n/opt/conda/lib/python3.10/site-packages/scipy/__init__.py:146: UserWarning: A NumPy version >=1.16.5 and <1.23.0 is required for this version of SciPy (detected version 1.24.3\n  warnings.warn(f\"A NumPy version >={np_minversion} and <{np_maxversion}\"\n                   all      0.986          1\nSpeed: 0.3ms preprocess, 1.4ms inference, 0.0ms loss, 0.0ms postprocess per image\nResults saved to \u001b[1mruns/classify/val2\u001b[0m\n💡 Learn more at https://docs.ultralytics.com/modes/val\n",
          "output_type": "stream"
        }
      ],
      "execution_count": null
    },
    {
      "cell_type": "code",
      "source": [
        "# Check validation results\n",
        "!ls /kaggle/working/runs/classify/val2"
      ],
      "metadata": {
        "execution": {
          "iopub.status.busy": "2024-03-11T18:18:08.113028Z",
          "iopub.execute_input": "2024-03-11T18:18:08.113856Z",
          "iopub.status.idle": "2024-03-11T18:18:09.075333Z",
          "shell.execute_reply.started": "2024-03-11T18:18:08.113814Z",
          "shell.execute_reply": "2024-03-11T18:18:09.074191Z"
        },
        "trusted": true,
        "id": "qCZufn5YsCKg",
        "outputId": "0ff5db11-2bb8-410f-ec9f-a75ede3dde47"
      },
      "outputs": [
        {
          "name": "stdout",
          "text": "confusion_matrix.png\t\t val_batch0_pred.jpg\tval_batch2_labels.jpg\nconfusion_matrix_normalized.png  val_batch1_labels.jpg\tval_batch2_pred.jpg\nval_batch0_labels.jpg\t\t val_batch1_pred.jpg\n",
          "output_type": "stream"
        }
      ],
      "execution_count": null
    },
    {
      "cell_type": "code",
      "source": [
        "# Show labeled prediction image\n",
        "display(Image('/kaggle/working/runs/classify/val2/val_batch0_labels.jpg'))\n"
      ],
      "metadata": {
        "execution": {
          "iopub.status.busy": "2024-03-11T18:25:42.243380Z",
          "iopub.execute_input": "2024-03-11T18:25:42.244294Z",
          "iopub.status.idle": "2024-03-11T18:25:42.259820Z",
          "shell.execute_reply.started": "2024-03-11T18:25:42.244251Z",
          "shell.execute_reply": "2024-03-11T18:25:42.258948Z"
        },
        "trusted": true,
        "id": "vtME0mpfsCKg",
        "outputId": "54e8c62e-933a-473b-fadd-972c5efeb861"
      },
      "outputs": [
        {
          "output_type": "display_data",
          "data": {
            "image/jpeg": "[encoded data removed]",
            "text/plain": "<IPython.core.display.Image object>"
          },
          "metadata": {}
        }
      ],
      "execution_count": null
    },
    {
      "cell_type": "code",
      "source": [
        "# Display confusion matrix\n",
        "display(Image('/kaggle/working/runs/classify/train2/confusion_matrix.png'))\n"
      ],
      "metadata": {
        "execution": {
          "iopub.status.busy": "2023-12-10T11:09:15.642397Z",
          "iopub.execute_input": "2023-12-10T11:09:15.642854Z",
          "iopub.status.idle": "2023-12-10T11:09:15.661309Z",
          "shell.execute_reply.started": "2023-12-10T11:09:15.642819Z",
          "shell.execute_reply": "2023-12-10T11:09:15.660255Z"
        },
        "trusted": true,
        "id": "S_4tn92DsCKg"
      },
      "outputs": [],
      "execution_count": null
    },
    {
      "cell_type": "code",
      "source": [
        "# Display training summary plot\n",
        "display(Image('/kaggle/working/runs/classify/train2/results.png'))\n"
      ],
      "metadata": {
        "execution": {
          "iopub.status.busy": "2023-12-10T11:17:24.865492Z",
          "iopub.execute_input": "2023-12-10T11:17:24.865923Z",
          "iopub.status.idle": "2023-12-10T11:17:24.876270Z",
          "shell.execute_reply.started": "2023-12-10T11:17:24.865889Z",
          "shell.execute_reply": "2023-12-10T11:17:24.874995Z"
        },
        "trusted": true,
        "id": "yYkCbNRMsCKg"
      },
      "outputs": [],
      "execution_count": null
    },
    {
      "cell_type": "code",
      "source": [
        "# Load results CSV\n",
        "pd.read_csv('/kaggle/working/yolov5/runs/train-cls/exp/results.csv')"
      ],
      "metadata": {
        "execution": {
          "iopub.status.busy": "2023-12-10T09:51:53.938020Z",
          "iopub.execute_input": "2023-12-10T09:51:53.938292Z",
          "iopub.status.idle": "2023-12-10T09:51:53.975404Z",
          "shell.execute_reply.started": "2023-12-10T09:51:53.938271Z",
          "shell.execute_reply": "2023-12-10T09:51:53.974559Z"
        },
        "collapsed": true,
        "jupyter": {
          "outputs_hidden": true
        },
        "trusted": true,
        "id": "wYWgfs8ZsCKk"
      },
      "outputs": [],
      "execution_count": null
    },
    {
      "cell_type": "code",
      "source": [
        "# Plot training & validation loss\n",
        "\n",
        "results_path = '/kaggle/working/yolov5/runs/train-cls/exp/results.csv'\n",
        "\n",
        "results = pd.read_csv(results_path)\n",
        "\n",
        "plt.figure()\n",
        "plt.plot(results['                  epoch'], results['             train/loss'], label='train loss')\n",
        "plt.plot(results['                  epoch'], results['              test/loss'], label='val loss', c='red')\n",
        "plt.grid()\n",
        "plt.title('Loss vs epochs')\n",
        "plt.ylabel('loss')\n",
        "plt.xlabel('epochs')\n",
        "plt.legend()\n",
        "\n",
        "\n",
        "plt.figure()\n",
        "plt.plot(results['                  epoch'], results['  metrics/accuracy_top1'] * 100)\n",
        "plt.grid()\n",
        "plt.title('Validation accuracy vs epochs')\n",
        "plt.ylabel('accuracy (%)')\n",
        "plt.xlabel('epochs')\n",
        "\n",
        "plt.show()"
      ],
      "metadata": {
        "execution": {
          "iopub.status.busy": "2023-12-10T09:51:54.607667Z",
          "iopub.execute_input": "2023-12-10T09:51:54.608756Z",
          "iopub.status.idle": "2023-12-10T09:51:55.065138Z",
          "shell.execute_reply.started": "2023-12-10T09:51:54.608709Z",
          "shell.execute_reply": "2023-12-10T09:51:55.064287Z"
        },
        "trusted": true,
        "id": "Zu3dRHqhsCKk"
      },
      "outputs": [],
      "execution_count": null
    },
    {
      "cell_type": "code",
      "source": [
        "results.columns"
      ],
      "metadata": {
        "execution": {
          "iopub.status.busy": "2023-12-10T09:51:55.065912Z",
          "iopub.execute_input": "2023-12-10T09:51:55.066165Z",
          "iopub.status.idle": "2023-12-10T09:51:55.073659Z",
          "shell.execute_reply.started": "2023-12-10T09:51:55.066144Z",
          "shell.execute_reply": "2023-12-10T09:51:55.072377Z"
        },
        "trusted": true,
        "id": "Q3YGMZ2tsCKk"
      },
      "outputs": [],
      "execution_count": null
    },
    {
      "cell_type": "code",
      "source": [
        "#Confusion Matrix Plot from Scratch\n",
        "\n",
        "def plot_confusion_matrix(cm, classes, normalize=False, title='Confusion matrix', cmap=plt.cm.Blues):\n",
        "    \"\"\"\n",
        "    Plots a confusion matrix.\n",
        "    \"\"\"\n",
        "    if normalize:\n",
        "        cm = cm.astype('float') / cm.sum(axis=1)[:, np.newaxis]\n",
        "        print(\"Normalized confusion matrix\")\n",
        "    else:\n",
        "        print('Confusion matrix, without normalization')\n",
        "\n",
        "    plt.imshow(cm, interpolation='nearest', cmap=cmap)\n",
        "    plt.title(title)\n",
        "    plt.colorbar()\n",
        "    tick_marks = np.arange(len(classes))\n",
        "    plt.xticks(tick_marks, classes, rotation=45)\n",
        "    plt.yticks(tick_marks, classes)\n",
        "\n",
        "    fmt = '.2f' if normalize else 'd'\n",
        "    thresh = cm.max() / 2.\n",
        "    for i, j in itertools.product(range(cm.shape[0]), range(cm.shape[1])):\n",
        "        plt.text(j, i, format(cm[i, j], fmt),\n",
        "                 horizontalalignment=\"center\",\n",
        "                 color=\"white\" if cm[i, j] > thresh else \"black\")\n",
        "\n",
        "    plt.ylabel('True label')\n",
        "    plt.xlabel('Predicted label')\n",
        "    plt.tight_layout()\n",
        "    plt.show()"
      ],
      "metadata": {
        "execution": {
          "iopub.status.busy": "2023-12-10T10:08:03.911997Z",
          "iopub.execute_input": "2023-12-10T10:08:03.914498Z",
          "iopub.status.idle": "2023-12-10T10:08:03.929083Z",
          "shell.execute_reply.started": "2023-12-10T10:08:03.914410Z",
          "shell.execute_reply": "2023-12-10T10:08:03.927252Z"
        },
        "trusted": true,
        "id": "ducTFUkwsCKk"
      },
      "outputs": [],
      "execution_count": null
    },
    {
      "cell_type": "code",
      "source": [
        "!python val.py --task"
      ],
      "metadata": {
        "execution": {
          "iopub.status.busy": "2023-12-10T10:12:07.298032Z",
          "iopub.execute_input": "2023-12-10T10:12:07.299070Z",
          "iopub.status.idle": "2023-12-10T10:12:12.815240Z",
          "shell.execute_reply.started": "2023-12-10T10:12:07.299028Z",
          "shell.execute_reply": "2023-12-10T10:12:12.813873Z"
        },
        "trusted": true,
        "id": "VyJqyAKUsCKl"
      },
      "outputs": [],
      "execution_count": null
    },
    {
      "cell_type": "code",
      "source": [
        "#Image Count per Jellyfish Typet\n",
        "\n",
        "# Define the paths to your folders\n",
        "moon_jellyfish_path = \"/kaggle/input/jellyfish-types/Moon_jellyfish\"\n",
        "barrel_jellyfish_path = \"/kaggle/input/jellyfish-types/barrel_jellyfish\"\n",
        "blue_jellyfish_path = \"/kaggle/input/jellyfish-types/blue_jellyfish\"\n",
        "compass_jellyfish_path = \"/kaggle/input/jellyfish-types/compass_jellyfish\"\n",
        "lions_mane_jellyfish_path = \"/kaggle/input/jellyfish-types/lions_mane_jellyfish\"\n",
        "mauve_stinger_jellyfish_path = \"/kaggle/input/jellyfish-types/mauve_stinger_jellyfish\"\n",
        "\n",
        "# Function to count images in a folder\n",
        "def count_images(folder_path):\n",
        "    image_count = len([f for f in os.listdir(folder_path) if f.endswith(('.jpg', '.jpeg', '.png'))])\n",
        "    return image_count\n",
        "\n",
        "# Get image counts for each folder\n",
        "moon_jellyfish_count = count_images(moon_jellyfish_path)\n",
        "barrel_jellyfish_count = count_images(barrel_jellyfish_path)\n",
        "blue_jellyfish_path_count = count_images(blue_jellyfish_path)\n",
        "compass_jellyfish_path_count = count_images(compass_jellyfish_path)\n",
        "lions_mane_jellyfish_path_count = count_images(lions_mane_jellyfish_path)\n",
        "mauve_stinger_jellyfish_path_count = count_images(mauve_stinger_jellyfish_path)\n",
        "\n",
        "# Plot the graph with adjusted figure size\n",
        "folders = ['Moon Jellyfish', 'Barrel Jellyfish', 'Blue Jellyfish', 'Compass Jellyfish', 'Lion\\'s Mane Jellyfish', 'Mauve Stinger Jellyfish']\n",
        "image_counts = [moon_jellyfish_count, barrel_jellyfish_count, blue_jellyfish_path_count, compass_jellyfish_path_count,\n",
        "                lions_mane_jellyfish_path_count, mauve_stinger_jellyfish_path_count]\n",
        "\n",
        "# Use different colors for each bar\n",
        "colors = ['blue', 'orange', 'green', 'red', 'purple', 'brown']\n",
        "\n",
        "# Adjust figure size for better visualization\n",
        "plt.figure(figsize=(12, 6))\n",
        "\n",
        "plt.bar(folders, image_counts, color=colors)\n",
        "plt.xlabel('Jellyfish Types', fontsize=18)\n",
        "plt.ylabel('Image Count', fontsize=18)\n",
        "plt.title('Image Count in Each Jellyfish Type Folder', fontsize=16)\n",
        "plt.xticks(rotation=45, ha=\"right\", fontsize=16)\n",
        "plt.yticks(fontsize=16)\n",
        "plt.savefig(\"jellyfish_distribution_graph.png\")\n",
        "plt.show()\n"
      ],
      "metadata": {
        "execution": {
          "iopub.status.busy": "2024-03-07T15:13:08.678435Z",
          "iopub.execute_input": "2024-03-07T15:13:08.678814Z",
          "iopub.status.idle": "2024-03-07T15:13:09.075079Z",
          "shell.execute_reply.started": "2024-03-07T15:13:08.678777Z",
          "shell.execute_reply": "2024-03-07T15:13:09.074196Z"
        },
        "trusted": true,
        "id": "gkISPhgUsCKl"
      },
      "outputs": [],
      "execution_count": null
    },
    {
      "cell_type": "code",
      "source": [
        "#"
      ],
      "metadata": {
        "id": "7x2VR4afsCKp"
      },
      "outputs": [],
      "execution_count": null
    }
  ]
}